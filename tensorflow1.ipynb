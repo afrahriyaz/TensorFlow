{
  "nbformat": 4,
  "nbformat_minor": 0,
  "metadata": {
    "colab": {
      "name": "tensorflow1.ipynb",
      "provenance": [],
      "authorship_tag": "ABX9TyN6cGueIoq4hPhpEwyFM+C+",
      "include_colab_link": true
    },
    "kernelspec": {
      "name": "python3",
      "display_name": "Python 3"
    },
    "language_info": {
      "name": "python"
    }
  },
  "cells": [
    {
      "cell_type": "markdown",
      "metadata": {
        "id": "view-in-github",
        "colab_type": "text"
      },
      "source": [
        "<a href=\"https://colab.research.google.com/github/afrahriyaz/TensorFlow/blob/main/tensorflow1.ipynb\" target=\"_parent\"><img src=\"https://colab.research.google.com/assets/colab-badge.svg\" alt=\"Open In Colab\"/></a>"
      ]
    },
    {
      "cell_type": "markdown",
      "metadata": {
        "id": "3ZhCxBMDegLs"
      },
      "source": [
        "##Introduction to Tensors"
      ]
    },
    {
      "cell_type": "code",
      "metadata": {
        "colab": {
          "base_uri": "https://localhost:8080/"
        },
        "id": "o_TphfaDevpu",
        "outputId": "d9397d0c-262a-45de-998e-49a7863a13ca"
      },
      "source": [
        "# Import tenserlow\n",
        "import tensorflow as tf\n",
        "print(tf.__version__)"
      ],
      "execution_count": 3,
      "outputs": [
        {
          "output_type": "stream",
          "name": "stdout",
          "text": [
            "2.7.0\n"
          ]
        }
      ]
    },
    {
      "cell_type": "code",
      "metadata": {
        "colab": {
          "base_uri": "https://localhost:8080/"
        },
        "id": "DyX8onKDfYPk",
        "outputId": "85e6cca0-69fe-4372-be93-e734fc97ea08"
      },
      "source": [
        "#creating tensors with tf.constant()\n",
        "scalar = tf.constant(7)\n",
        "scalar"
      ],
      "execution_count": 4,
      "outputs": [
        {
          "output_type": "execute_result",
          "data": {
            "text/plain": [
              "<tf.Tensor: shape=(), dtype=int32, numpy=7>"
            ]
          },
          "metadata": {},
          "execution_count": 4
        }
      ]
    },
    {
      "cell_type": "code",
      "metadata": {
        "colab": {
          "base_uri": "https://localhost:8080/"
        },
        "id": "yKe7e81cfrfo",
        "outputId": "de098e2c-31f9-4d38-daa9-625f2f7a0653"
      },
      "source": [
        "#check number of dimensions of tensor(ndim)\n",
        "scalar.ndim"
      ],
      "execution_count": 5,
      "outputs": [
        {
          "output_type": "execute_result",
          "data": {
            "text/plain": [
              "0"
            ]
          },
          "metadata": {},
          "execution_count": 5
        }
      ]
    },
    {
      "cell_type": "code",
      "metadata": {
        "colab": {
          "base_uri": "https://localhost:8080/"
        },
        "id": "2DIgjQdNg1lj",
        "outputId": "e906c635-4bf5-4cd3-d1a3-495cdb33d69a"
      },
      "source": [
        "#create a vector\n",
        "vector = tf.constant([10,10])\n",
        "vector"
      ],
      "execution_count": 6,
      "outputs": [
        {
          "output_type": "execute_result",
          "data": {
            "text/plain": [
              "<tf.Tensor: shape=(2,), dtype=int32, numpy=array([10, 10], dtype=int32)>"
            ]
          },
          "metadata": {},
          "execution_count": 6
        }
      ]
    },
    {
      "cell_type": "code",
      "metadata": {
        "colab": {
          "base_uri": "https://localhost:8080/"
        },
        "id": "9JZIh6gug9-B",
        "outputId": "053a735f-fc9b-449f-8f5a-a6317858d163"
      },
      "source": [
        "#check the dimension of our vector\n",
        "vector.ndim"
      ],
      "execution_count": 7,
      "outputs": [
        {
          "output_type": "execute_result",
          "data": {
            "text/plain": [
              "1"
            ]
          },
          "metadata": {},
          "execution_count": 7
        }
      ]
    },
    {
      "cell_type": "code",
      "metadata": {
        "colab": {
          "base_uri": "https://localhost:8080/"
        },
        "id": "p2-yjyXEhEaE",
        "outputId": "d3b1f7e7-af82-4e53-c20f-3c8cbd78c697"
      },
      "source": [
        "#create a matrix\n",
        "matrix = tf.constant([[10,7],\n",
        "                     [7,10]])\n",
        "matrix"
      ],
      "execution_count": 8,
      "outputs": [
        {
          "output_type": "execute_result",
          "data": {
            "text/plain": [
              "<tf.Tensor: shape=(2, 2), dtype=int32, numpy=\n",
              "array([[10,  7],\n",
              "       [ 7, 10]], dtype=int32)>"
            ]
          },
          "metadata": {},
          "execution_count": 8
        }
      ]
    },
    {
      "cell_type": "code",
      "metadata": {
        "colab": {
          "base_uri": "https://localhost:8080/"
        },
        "id": "2GKmhg6uhRna",
        "outputId": "0aff6a99-d28d-4562-8968-104800e2235f"
      },
      "source": [
        "matrix.ndim"
      ],
      "execution_count": 9,
      "outputs": [
        {
          "output_type": "execute_result",
          "data": {
            "text/plain": [
              "2"
            ]
          },
          "metadata": {},
          "execution_count": 9
        }
      ]
    },
    {
      "cell_type": "code",
      "metadata": {
        "colab": {
          "base_uri": "https://localhost:8080/"
        },
        "id": "02sWi3D7hpiP",
        "outputId": "8fac3c53-0ce0-4f58-9fca-f0e37c670cfb"
      },
      "source": [
        "#create another matrix\n",
        "another_matrix = tf.constant([[10., 7.],\n",
        "                              [3., 2.],\n",
        "                              [8.,9.]], dtype=tf.float16)\n",
        "another_matrix"
      ],
      "execution_count": 10,
      "outputs": [
        {
          "output_type": "execute_result",
          "data": {
            "text/plain": [
              "<tf.Tensor: shape=(3, 2), dtype=float16, numpy=\n",
              "array([[10.,  7.],\n",
              "       [ 3.,  2.],\n",
              "       [ 8.,  9.]], dtype=float16)>"
            ]
          },
          "metadata": {},
          "execution_count": 10
        }
      ]
    },
    {
      "cell_type": "code",
      "metadata": {
        "colab": {
          "base_uri": "https://localhost:8080/"
        },
        "id": "X-04M5XdiNkJ",
        "outputId": "81eb24f5-3550-497e-911a-6b8e4cc1487d"
      },
      "source": [
        "#no of dimentions of another matrix\n",
        "another_matrix.ndim"
      ],
      "execution_count": 11,
      "outputs": [
        {
          "output_type": "execute_result",
          "data": {
            "text/plain": [
              "2"
            ]
          },
          "metadata": {},
          "execution_count": 11
        }
      ]
    },
    {
      "cell_type": "code",
      "metadata": {
        "colab": {
          "base_uri": "https://localhost:8080/"
        },
        "id": "6_90J_AUiZYL",
        "outputId": "3c828f9b-e88f-4387-9abe-d238c0c19144"
      },
      "source": [
        "#creating a tensor\n",
        "tensor = tf.constant([[[1,2,3],\n",
        "                       [4,5,6]],\n",
        "                      [[7,8,9],\n",
        "                       [11,12,13]]])\n",
        "tensor"
      ],
      "execution_count": 12,
      "outputs": [
        {
          "output_type": "execute_result",
          "data": {
            "text/plain": [
              "<tf.Tensor: shape=(2, 2, 3), dtype=int32, numpy=\n",
              "array([[[ 1,  2,  3],\n",
              "        [ 4,  5,  6]],\n",
              "\n",
              "       [[ 7,  8,  9],\n",
              "        [11, 12, 13]]], dtype=int32)>"
            ]
          },
          "metadata": {},
          "execution_count": 12
        }
      ]
    },
    {
      "cell_type": "code",
      "metadata": {
        "colab": {
          "base_uri": "https://localhost:8080/"
        },
        "id": "yczAWYGpjXbA",
        "outputId": "d044d349-22ac-4f22-f1a5-24a5711b98f3"
      },
      "source": [
        "tensor.ndim"
      ],
      "execution_count": 13,
      "outputs": [
        {
          "output_type": "execute_result",
          "data": {
            "text/plain": [
              "3"
            ]
          },
          "metadata": {},
          "execution_count": 13
        }
      ]
    },
    {
      "cell_type": "markdown",
      "metadata": {
        "id": "wMeC6vdOjwjv"
      },
      "source": [
        "###creating a variable tensor"
      ]
    },
    {
      "cell_type": "code",
      "metadata": {
        "colab": {
          "base_uri": "https://localhost:8080/"
        },
        "id": "hyDxPISC5X30",
        "outputId": "1fc07c80-541c-4815-cee8-a3c00bab8775"
      },
      "source": [
        "variable_tensor = tf.Variable([[2,3],\n",
        "                              [5,7]])\n",
        "variable_tensor"
      ],
      "execution_count": 14,
      "outputs": [
        {
          "output_type": "execute_result",
          "data": {
            "text/plain": [
              "<tf.Variable 'Variable:0' shape=(2, 2) dtype=int32, numpy=\n",
              "array([[2, 3],\n",
              "       [5, 7]], dtype=int32)>"
            ]
          },
          "metadata": {},
          "execution_count": 14
        }
      ]
    },
    {
      "cell_type": "code",
      "metadata": {
        "colab": {
          "base_uri": "https://localhost:8080/"
        },
        "id": "HtQoz_2M50QT",
        "outputId": "729a98a6-7953-4070-fda4-99773816ad82"
      },
      "source": [
        "variable_tensor[0].assign([10,20])"
      ],
      "execution_count": 15,
      "outputs": [
        {
          "output_type": "execute_result",
          "data": {
            "text/plain": [
              "<tf.Variable 'UnreadVariable' shape=(2, 2) dtype=int32, numpy=\n",
              "array([[10, 20],\n",
              "       [ 5,  7]], dtype=int32)>"
            ]
          },
          "metadata": {},
          "execution_count": 15
        }
      ]
    },
    {
      "cell_type": "markdown",
      "metadata": {
        "id": "BBfcDBvO7o5c"
      },
      "source": [
        "###creating a random tensor "
      ]
    },
    {
      "cell_type": "code",
      "metadata": {
        "id": "fPvhkGbE9Hp-"
      },
      "source": [
        "random_tensor = tf.random.Generator.from_seed(42)"
      ],
      "execution_count": 16,
      "outputs": []
    },
    {
      "cell_type": "code",
      "metadata": {
        "colab": {
          "base_uri": "https://localhost:8080/"
        },
        "id": "wZvs2z3F-wbk",
        "outputId": "4a6bb3ec-75c5-48c5-e183-30c2e5a9d04e"
      },
      "source": [
        "random_tensor.normal(shape=(2,3))"
      ],
      "execution_count": 17,
      "outputs": [
        {
          "output_type": "execute_result",
          "data": {
            "text/plain": [
              "<tf.Tensor: shape=(2, 3), dtype=float32, numpy=\n",
              "array([[-0.7565803 , -0.06854702,  0.07595026],\n",
              "       [-1.2573844 , -0.23193763, -1.8107855 ]], dtype=float32)>"
            ]
          },
          "metadata": {},
          "execution_count": 17
        }
      ]
    },
    {
      "cell_type": "code",
      "metadata": {
        "colab": {
          "base_uri": "https://localhost:8080/"
        },
        "id": "DmECHlAc-8Lq",
        "outputId": "c781a5e3-0a32-465a-887d-22733744cdb4"
      },
      "source": [
        "random_tensor2 = tf.random.Generator.from_seed(42)\n",
        "random_tensor2.normal(shape=(2,3))"
      ],
      "execution_count": 18,
      "outputs": [
        {
          "output_type": "execute_result",
          "data": {
            "text/plain": [
              "<tf.Tensor: shape=(2, 3), dtype=float32, numpy=\n",
              "array([[-0.7565803 , -0.06854702,  0.07595026],\n",
              "       [-1.2573844 , -0.23193763, -1.8107855 ]], dtype=float32)>"
            ]
          },
          "metadata": {},
          "execution_count": 18
        }
      ]
    },
    {
      "cell_type": "code",
      "metadata": {
        "colab": {
          "base_uri": "https://localhost:8080/"
        },
        "id": "RQXRJgVu_NCm",
        "outputId": "a613d1dd-6dae-425a-aa3d-d60eb57aaf3b"
      },
      "source": [
        "random_tensor, random_tensor2,  random_tensor == random_tensor2"
      ],
      "execution_count": 19,
      "outputs": [
        {
          "output_type": "execute_result",
          "data": {
            "text/plain": [
              "(<tensorflow.python.ops.stateful_random_ops.Generator at 0x7fdd4831c190>,\n",
              " <tensorflow.python.ops.stateful_random_ops.Generator at 0x7fdd446a46d0>,\n",
              " False)"
            ]
          },
          "metadata": {},
          "execution_count": 19
        }
      ]
    },
    {
      "cell_type": "code",
      "metadata": {
        "colab": {
          "base_uri": "https://localhost:8080/"
        },
        "id": "dxCnDlW0_fS8",
        "outputId": "dae0a808-e262-429a-f4cb-6ef28482ab25"
      },
      "source": [
        "random1 = tf.random.Generator.from_seed(7)\n",
        "random1 = random1.normal(shape=(3,2))\n",
        "random2 = tf.random.Generator.from_seed(7)\n",
        "random2 = random2.normal(shape=(3,2))\n",
        "random1, random2, random1 == random2"
      ],
      "execution_count": 20,
      "outputs": [
        {
          "output_type": "execute_result",
          "data": {
            "text/plain": [
              "(<tf.Tensor: shape=(3, 2), dtype=float32, numpy=\n",
              " array([[-1.3240396 ,  0.28785667],\n",
              "        [-0.8757901 , -0.08857018],\n",
              "        [ 0.69211644,  0.84215707]], dtype=float32)>,\n",
              " <tf.Tensor: shape=(3, 2), dtype=float32, numpy=\n",
              " array([[-1.3240396 ,  0.28785667],\n",
              "        [-0.8757901 , -0.08857018],\n",
              "        [ 0.69211644,  0.84215707]], dtype=float32)>,\n",
              " <tf.Tensor: shape=(3, 2), dtype=bool, numpy=\n",
              " array([[ True,  True],\n",
              "        [ True,  True],\n",
              "        [ True,  True]])>)"
            ]
          },
          "metadata": {},
          "execution_count": 20
        }
      ]
    },
    {
      "cell_type": "markdown",
      "metadata": {
        "id": "KFPAJ4NhEDql"
      },
      "source": [
        "###shuffling the order of elements in a tensor"
      ]
    },
    {
      "cell_type": "code",
      "metadata": {
        "colab": {
          "base_uri": "https://localhost:8080/"
        },
        "id": "u_32OIezP6p-",
        "outputId": "8a8b96c7-a2d2-4aef-9c28-33faaa737177"
      },
      "source": [
        "not_shuffled = tf.constant([[10,7],\n",
        "                           [2,3],\n",
        "                           [5,9]])\n",
        "not_shuffled.ndim"
      ],
      "execution_count": 21,
      "outputs": [
        {
          "output_type": "execute_result",
          "data": {
            "text/plain": [
              "2"
            ]
          },
          "metadata": {},
          "execution_count": 21
        }
      ]
    },
    {
      "cell_type": "code",
      "metadata": {
        "colab": {
          "base_uri": "https://localhost:8080/"
        },
        "id": "OEqmr6NVQhPG",
        "outputId": "7ec3dd93-87c3-47ca-abbf-4f9a69d322d3"
      },
      "source": [
        "not_shuffled"
      ],
      "execution_count": 22,
      "outputs": [
        {
          "output_type": "execute_result",
          "data": {
            "text/plain": [
              "<tf.Tensor: shape=(3, 2), dtype=int32, numpy=\n",
              "array([[10,  7],\n",
              "       [ 2,  3],\n",
              "       [ 5,  9]], dtype=int32)>"
            ]
          },
          "metadata": {},
          "execution_count": 22
        }
      ]
    },
    {
      "cell_type": "code",
      "metadata": {
        "colab": {
          "base_uri": "https://localhost:8080/"
        },
        "id": "1C_A3P9mTEfQ",
        "outputId": "9353b430-41dd-4986-8ed5-295a15b79c8c"
      },
      "source": [
        "#gives different random order everytime it is run\n",
        "tf.random.shuffle(not_shuffled)"
      ],
      "execution_count": 23,
      "outputs": [
        {
          "output_type": "execute_result",
          "data": {
            "text/plain": [
              "<tf.Tensor: shape=(3, 2), dtype=int32, numpy=\n",
              "array([[ 5,  9],\n",
              "       [10,  7],\n",
              "       [ 2,  3]], dtype=int32)>"
            ]
          },
          "metadata": {},
          "execution_count": 23
        }
      ]
    },
    {
      "cell_type": "code",
      "metadata": {
        "colab": {
          "base_uri": "https://localhost:8080/"
        },
        "id": "8fdH_WZ4QrvI",
        "outputId": "1521daee-1dc6-427e-c9a2-64acd9eb3850"
      },
      "source": [
        "#gives same random order no matter how many times we run it\n",
        "tf.random.set_seed(2)\n",
        "tf.random.shuffle(not_shuffled,seed=2)"
      ],
      "execution_count": 24,
      "outputs": [
        {
          "output_type": "execute_result",
          "data": {
            "text/plain": [
              "<tf.Tensor: shape=(3, 2), dtype=int32, numpy=\n",
              "array([[ 5,  9],\n",
              "       [ 2,  3],\n",
              "       [10,  7]], dtype=int32)>"
            ]
          },
          "metadata": {},
          "execution_count": 24
        }
      ]
    },
    {
      "cell_type": "markdown",
      "metadata": {
        "id": "AdijNJHvSsZF"
      },
      "source": [
        "###other ways to make tensors"
      ]
    },
    {
      "cell_type": "code",
      "metadata": {
        "colab": {
          "base_uri": "https://localhost:8080/"
        },
        "id": "nlcyQGvjjGGO",
        "outputId": "34c02bb2-3ab2-424a-d9ac-f3634de27096"
      },
      "source": [
        "tf.ones([5,2])"
      ],
      "execution_count": 25,
      "outputs": [
        {
          "output_type": "execute_result",
          "data": {
            "text/plain": [
              "<tf.Tensor: shape=(5, 2), dtype=float32, numpy=\n",
              "array([[1., 1.],\n",
              "       [1., 1.],\n",
              "       [1., 1.],\n",
              "       [1., 1.],\n",
              "       [1., 1.]], dtype=float32)>"
            ]
          },
          "metadata": {},
          "execution_count": 25
        }
      ]
    },
    {
      "cell_type": "code",
      "metadata": {
        "colab": {
          "base_uri": "https://localhost:8080/"
        },
        "id": "x6dVIdxvjV2B",
        "outputId": "d4206e48-a28d-4fea-80f0-f5fb5c2f909a"
      },
      "source": [
        "tf.zeros([3,4])"
      ],
      "execution_count": 26,
      "outputs": [
        {
          "output_type": "execute_result",
          "data": {
            "text/plain": [
              "<tf.Tensor: shape=(3, 4), dtype=float32, numpy=\n",
              "array([[0., 0., 0., 0.],\n",
              "       [0., 0., 0., 0.],\n",
              "       [0., 0., 0., 0.]], dtype=float32)>"
            ]
          },
          "metadata": {},
          "execution_count": 26
        }
      ]
    },
    {
      "cell_type": "code",
      "metadata": {
        "colab": {
          "base_uri": "https://localhost:8080/"
        },
        "id": "_Q8dFe5Bjbdz",
        "outputId": "366aeee3-74d0-41ea-a25a-6d27eea5fd4c"
      },
      "source": [
        "import numpy as np\n",
        "numpy_A = np.arange(1, 25, dtype=np.int32)\n",
        "numpy_A"
      ],
      "execution_count": 27,
      "outputs": [
        {
          "output_type": "execute_result",
          "data": {
            "text/plain": [
              "array([ 1,  2,  3,  4,  5,  6,  7,  8,  9, 10, 11, 12, 13, 14, 15, 16, 17,\n",
              "       18, 19, 20, 21, 22, 23, 24], dtype=int32)"
            ]
          },
          "metadata": {},
          "execution_count": 27
        }
      ]
    },
    {
      "cell_type": "code",
      "metadata": {
        "colab": {
          "base_uri": "https://localhost:8080/"
        },
        "id": "CFxIBbR_j-jM",
        "outputId": "938c39f7-7af5-4be3-94b6-ffb88e9fb6d7"
      },
      "source": [
        "A = tf.constant(numpy_A)\n",
        "A"
      ],
      "execution_count": 28,
      "outputs": [
        {
          "output_type": "execute_result",
          "data": {
            "text/plain": [
              "<tf.Tensor: shape=(24,), dtype=int32, numpy=\n",
              "array([ 1,  2,  3,  4,  5,  6,  7,  8,  9, 10, 11, 12, 13, 14, 15, 16, 17,\n",
              "       18, 19, 20, 21, 22, 23, 24], dtype=int32)>"
            ]
          },
          "metadata": {},
          "execution_count": 28
        }
      ]
    },
    {
      "cell_type": "code",
      "metadata": {
        "colab": {
          "base_uri": "https://localhost:8080/"
        },
        "id": "Qd9NIyoGkMre",
        "outputId": "4d1f849e-e4cf-4e3c-8bdf-5e5a749ccef5"
      },
      "source": [
        "B = tf.constant(numpy_A, shape=(2,3,4))\n",
        "B"
      ],
      "execution_count": 29,
      "outputs": [
        {
          "output_type": "execute_result",
          "data": {
            "text/plain": [
              "<tf.Tensor: shape=(2, 3, 4), dtype=int32, numpy=\n",
              "array([[[ 1,  2,  3,  4],\n",
              "        [ 5,  6,  7,  8],\n",
              "        [ 9, 10, 11, 12]],\n",
              "\n",
              "       [[13, 14, 15, 16],\n",
              "        [17, 18, 19, 20],\n",
              "        [21, 22, 23, 24]]], dtype=int32)>"
            ]
          },
          "metadata": {},
          "execution_count": 29
        }
      ]
    },
    {
      "cell_type": "markdown",
      "metadata": {
        "id": "Nyn2wqPNkWUM"
      },
      "source": [
        "###getting information from tensors"
      ]
    },
    {
      "cell_type": "code",
      "metadata": {
        "colab": {
          "base_uri": "https://localhost:8080/"
        },
        "id": "5tLWwHfVk0ay",
        "outputId": "01c36c4b-d354-42f8-a7d2-38ae4c0a72c3"
      },
      "source": [
        "rank4tensor = tf.zeros(shape=[2,3,4,5])\n",
        "rank4tensor"
      ],
      "execution_count": 30,
      "outputs": [
        {
          "output_type": "execute_result",
          "data": {
            "text/plain": [
              "<tf.Tensor: shape=(2, 3, 4, 5), dtype=float32, numpy=\n",
              "array([[[[0., 0., 0., 0., 0.],\n",
              "         [0., 0., 0., 0., 0.],\n",
              "         [0., 0., 0., 0., 0.],\n",
              "         [0., 0., 0., 0., 0.]],\n",
              "\n",
              "        [[0., 0., 0., 0., 0.],\n",
              "         [0., 0., 0., 0., 0.],\n",
              "         [0., 0., 0., 0., 0.],\n",
              "         [0., 0., 0., 0., 0.]],\n",
              "\n",
              "        [[0., 0., 0., 0., 0.],\n",
              "         [0., 0., 0., 0., 0.],\n",
              "         [0., 0., 0., 0., 0.],\n",
              "         [0., 0., 0., 0., 0.]]],\n",
              "\n",
              "\n",
              "       [[[0., 0., 0., 0., 0.],\n",
              "         [0., 0., 0., 0., 0.],\n",
              "         [0., 0., 0., 0., 0.],\n",
              "         [0., 0., 0., 0., 0.]],\n",
              "\n",
              "        [[0., 0., 0., 0., 0.],\n",
              "         [0., 0., 0., 0., 0.],\n",
              "         [0., 0., 0., 0., 0.],\n",
              "         [0., 0., 0., 0., 0.]],\n",
              "\n",
              "        [[0., 0., 0., 0., 0.],\n",
              "         [0., 0., 0., 0., 0.],\n",
              "         [0., 0., 0., 0., 0.],\n",
              "         [0., 0., 0., 0., 0.]]]], dtype=float32)>"
            ]
          },
          "metadata": {},
          "execution_count": 30
        }
      ]
    },
    {
      "cell_type": "code",
      "metadata": {
        "colab": {
          "base_uri": "https://localhost:8080/"
        },
        "id": "cWJIfYs6mUwQ",
        "outputId": "db299dae-1363-4084-c275-14dad9fe2a69"
      },
      "source": [
        "rank4tensor[0]"
      ],
      "execution_count": 31,
      "outputs": [
        {
          "output_type": "execute_result",
          "data": {
            "text/plain": [
              "<tf.Tensor: shape=(3, 4, 5), dtype=float32, numpy=\n",
              "array([[[0., 0., 0., 0., 0.],\n",
              "        [0., 0., 0., 0., 0.],\n",
              "        [0., 0., 0., 0., 0.],\n",
              "        [0., 0., 0., 0., 0.]],\n",
              "\n",
              "       [[0., 0., 0., 0., 0.],\n",
              "        [0., 0., 0., 0., 0.],\n",
              "        [0., 0., 0., 0., 0.],\n",
              "        [0., 0., 0., 0., 0.]],\n",
              "\n",
              "       [[0., 0., 0., 0., 0.],\n",
              "        [0., 0., 0., 0., 0.],\n",
              "        [0., 0., 0., 0., 0.],\n",
              "        [0., 0., 0., 0., 0.]]], dtype=float32)>"
            ]
          },
          "metadata": {},
          "execution_count": 31
        }
      ]
    },
    {
      "cell_type": "code",
      "metadata": {
        "colab": {
          "base_uri": "https://localhost:8080/"
        },
        "id": "4jOEILJPmlYc",
        "outputId": "c1fdeb6f-e077-4da3-ea6d-cb4fa93b83e9"
      },
      "source": [
        "rank4tensor.shape, rank4tensor.ndim, tf.size(rank4tensor)"
      ],
      "execution_count": 32,
      "outputs": [
        {
          "output_type": "execute_result",
          "data": {
            "text/plain": [
              "(TensorShape([2, 3, 4, 5]), 4, <tf.Tensor: shape=(), dtype=int32, numpy=120>)"
            ]
          },
          "metadata": {},
          "execution_count": 32
        }
      ]
    },
    {
      "cell_type": "code",
      "metadata": {
        "colab": {
          "base_uri": "https://localhost:8080/"
        },
        "id": "TtuOTnvGm4qI",
        "outputId": "6be1ad7f-4fd2-4591-9096-42ad41fb7026"
      },
      "source": [
        "#get various attributes of our tensor\n",
        "print(\"datatype of every element: \",rank4tensor.dtype)\n",
        "print(\"nnumber of dimentions(rank): \", rank4tensor.ndim)\n",
        "print(\"shape of tensor: \",rank4tensor.shape)\n",
        "print(\"elements along the 0 axis: \",rank4tensor.shape[0])\n",
        "print(\"elements along the last axis: \", rank4tensor.shape[-1])\n",
        "print(\"total number of elements in our tensor: \",tf.size(rank4tensor))"
      ],
      "execution_count": 33,
      "outputs": [
        {
          "output_type": "stream",
          "name": "stdout",
          "text": [
            "datatype of every element:  <dtype: 'float32'>\n",
            "nnumber of dimentions(rank):  4\n",
            "shape of tensor:  (2, 3, 4, 5)\n",
            "elements along the 0 axis:  2\n",
            "elements along the last axis:  5\n",
            "total number of elements in our tensor:  tf.Tensor(120, shape=(), dtype=int32)\n"
          ]
        }
      ]
    },
    {
      "cell_type": "markdown",
      "metadata": {
        "id": "WCeXYd97oMcE"
      },
      "source": [
        "###Indexing tensors"
      ]
    },
    {
      "cell_type": "code",
      "metadata": {
        "colab": {
          "base_uri": "https://localhost:8080/"
        },
        "id": "GN4a9mEFPG8J",
        "outputId": "81fb576f-34c6-4135-9b5d-2daf889145f5"
      },
      "source": [
        "#like in python\n",
        "some_list = [1, 2, 3, 4]\n",
        "some_list[:2]"
      ],
      "execution_count": 35,
      "outputs": [
        {
          "output_type": "execute_result",
          "data": {
            "text/plain": [
              "[1, 2]"
            ]
          },
          "metadata": {},
          "execution_count": 35
        }
      ]
    },
    {
      "cell_type": "code",
      "metadata": {
        "colab": {
          "base_uri": "https://localhost:8080/"
        },
        "id": "7FVm0J4KOhT6",
        "outputId": "bc41fefe-d807-4711-b6cf-7e06e7568d81"
      },
      "source": [
        "#similarly\n",
        "#getting first two elements of each dimention\n",
        "rank4tensor[:2, :2, :2, :2]"
      ],
      "execution_count": 36,
      "outputs": [
        {
          "output_type": "execute_result",
          "data": {
            "text/plain": [
              "<tf.Tensor: shape=(2, 2, 2, 2), dtype=float32, numpy=\n",
              "array([[[[0., 0.],\n",
              "         [0., 0.]],\n",
              "\n",
              "        [[0., 0.],\n",
              "         [0., 0.]]],\n",
              "\n",
              "\n",
              "       [[[0., 0.],\n",
              "         [0., 0.]],\n",
              "\n",
              "        [[0., 0.],\n",
              "         [0., 0.]]]], dtype=float32)>"
            ]
          },
          "metadata": {},
          "execution_count": 36
        }
      ]
    },
    {
      "cell_type": "code",
      "metadata": {
        "colab": {
          "base_uri": "https://localhost:8080/"
        },
        "id": "ssqFNy7VOxxu",
        "outputId": "5d2ab7be-6877-4660-dd16-ac13938fed84"
      },
      "source": [
        "#getting the first element from each index except the final one\n",
        "rank4tensor[:1, :1, :1, :]"
      ],
      "execution_count": 39,
      "outputs": [
        {
          "output_type": "execute_result",
          "data": {
            "text/plain": [
              "<tf.Tensor: shape=(1, 1, 1, 5), dtype=float32, numpy=array([[[[0., 0., 0., 0., 0.]]]], dtype=float32)>"
            ]
          },
          "metadata": {},
          "execution_count": 39
        }
      ]
    },
    {
      "cell_type": "code",
      "metadata": {
        "colab": {
          "base_uri": "https://localhost:8080/"
        },
        "id": "SBbvauufP_2q",
        "outputId": "34204db4-9f5e-4a0d-dc1b-c4187f0152db"
      },
      "source": [
        "rank2tensor = tf.constant([[2,5],\n",
        "                           [3,7]])\n",
        "rank2tensor.shape, rank2tensor.ndim"
      ],
      "execution_count": 40,
      "outputs": [
        {
          "output_type": "execute_result",
          "data": {
            "text/plain": [
              "(TensorShape([2, 2]), 2)"
            ]
          },
          "metadata": {},
          "execution_count": 40
        }
      ]
    },
    {
      "cell_type": "code",
      "metadata": {
        "colab": {
          "base_uri": "https://localhost:8080/"
        },
        "id": "YzpZT8KsQidT",
        "outputId": "babc41a4-c67a-47ec-c995-4e4f8581581e"
      },
      "source": [
        "#get the last item of each of rank2tensor\n",
        "rank2tensor[:, -1]"
      ],
      "execution_count": 43,
      "outputs": [
        {
          "output_type": "execute_result",
          "data": {
            "text/plain": [
              "<tf.Tensor: shape=(2,), dtype=int32, numpy=array([5, 7], dtype=int32)>"
            ]
          },
          "metadata": {},
          "execution_count": 43
        }
      ]
    },
    {
      "cell_type": "code",
      "metadata": {
        "colab": {
          "base_uri": "https://localhost:8080/"
        },
        "id": "JoGh7GtrRYif",
        "outputId": "9357216a-96f9-4d70-89e7-504b9bd4b141"
      },
      "source": [
        "#add in extra dimension to our rank 2 tensor\n",
        "rank3tensor = rank2tensor[..., tf.newaxis]\n",
        "rank3tensor"
      ],
      "execution_count": 44,
      "outputs": [
        {
          "output_type": "execute_result",
          "data": {
            "text/plain": [
              "<tf.Tensor: shape=(2, 2, 1), dtype=int32, numpy=\n",
              "array([[[2],\n",
              "        [5]],\n",
              "\n",
              "       [[3],\n",
              "        [7]]], dtype=int32)>"
            ]
          },
          "metadata": {},
          "execution_count": 44
        }
      ]
    },
    {
      "cell_type": "code",
      "metadata": {
        "colab": {
          "base_uri": "https://localhost:8080/"
        },
        "id": "t9zja29CSP3x",
        "outputId": "6e6e9d8a-52e9-4fe1-bdf0-34c655e936e3"
      },
      "source": [
        "#alternative to tf.newaxis\n",
        "tf.expand_dims(rank2tensor, axis=-1)"
      ],
      "execution_count": 45,
      "outputs": [
        {
          "output_type": "execute_result",
          "data": {
            "text/plain": [
              "<tf.Tensor: shape=(2, 2, 1), dtype=int32, numpy=\n",
              "array([[[2],\n",
              "        [5]],\n",
              "\n",
              "       [[3],\n",
              "        [7]]], dtype=int32)>"
            ]
          },
          "metadata": {},
          "execution_count": 45
        }
      ]
    },
    {
      "cell_type": "code",
      "metadata": {
        "colab": {
          "base_uri": "https://localhost:8080/"
        },
        "id": "_tYM7Op2Slya",
        "outputId": "1131d366-a265-4805-b543-33b300ff78e3"
      },
      "source": [
        "#expand 0 axis\n",
        "tf.expand_dims(rank2tensor, axis=0)"
      ],
      "execution_count": 46,
      "outputs": [
        {
          "output_type": "execute_result",
          "data": {
            "text/plain": [
              "<tf.Tensor: shape=(1, 2, 2), dtype=int32, numpy=\n",
              "array([[[2, 5],\n",
              "        [3, 7]]], dtype=int32)>"
            ]
          },
          "metadata": {},
          "execution_count": 46
        }
      ]
    },
    {
      "cell_type": "markdown",
      "metadata": {
        "id": "5zO5X43tS41o"
      },
      "source": [
        "###Manipulating tensors(tensor operation)\n",
        "**Basic operations**\n",
        "\n",
        "`+`,`-`,`*`,`/`"
      ]
    },
    {
      "cell_type": "code",
      "metadata": {
        "colab": {
          "base_uri": "https://localhost:8080/"
        },
        "id": "TvnqBJXfThHX",
        "outputId": "6ff968af-dbdc-4685-83f4-877c28b10f23"
      },
      "source": [
        "#adding \n",
        "tensor = tf.constant([[1,2],\n",
        "                      [3,5]])\n",
        "tensor+10"
      ],
      "execution_count": 47,
      "outputs": [
        {
          "output_type": "execute_result",
          "data": {
            "text/plain": [
              "<tf.Tensor: shape=(2, 2), dtype=int32, numpy=\n",
              "array([[11, 12],\n",
              "       [13, 15]], dtype=int32)>"
            ]
          },
          "metadata": {},
          "execution_count": 47
        }
      ]
    },
    {
      "cell_type": "code",
      "metadata": {
        "colab": {
          "base_uri": "https://localhost:8080/"
        },
        "id": "KHvd7x18UuEl",
        "outputId": "9ed8b5d0-0def-49b7-f656-a83cde04b3e7"
      },
      "source": [
        "tensor"
      ],
      "execution_count": 48,
      "outputs": [
        {
          "output_type": "execute_result",
          "data": {
            "text/plain": [
              "<tf.Tensor: shape=(2, 2), dtype=int32, numpy=\n",
              "array([[1, 2],\n",
              "       [3, 5]], dtype=int32)>"
            ]
          },
          "metadata": {},
          "execution_count": 48
        }
      ]
    },
    {
      "cell_type": "code",
      "metadata": {
        "colab": {
          "base_uri": "https://localhost:8080/"
        },
        "id": "TVFGy_fEUvmj",
        "outputId": "c9c53901-1e4e-4874-f975-5aafc14eab3a"
      },
      "source": [
        "#multiplication\n",
        "tensor * 10"
      ],
      "execution_count": 49,
      "outputs": [
        {
          "output_type": "execute_result",
          "data": {
            "text/plain": [
              "<tf.Tensor: shape=(2, 2), dtype=int32, numpy=\n",
              "array([[10, 20],\n",
              "       [30, 50]], dtype=int32)>"
            ]
          },
          "metadata": {},
          "execution_count": 49
        }
      ]
    },
    {
      "cell_type": "code",
      "metadata": {
        "colab": {
          "base_uri": "https://localhost:8080/"
        },
        "id": "VpyNjNY2U41S",
        "outputId": "26a0893a-e248-447e-e281-1af449162516"
      },
      "source": [
        "#subtraction\n",
        "tensor -3"
      ],
      "execution_count": 50,
      "outputs": [
        {
          "output_type": "execute_result",
          "data": {
            "text/plain": [
              "<tf.Tensor: shape=(2, 2), dtype=int32, numpy=\n",
              "array([[-2, -1],\n",
              "       [ 0,  2]], dtype=int32)>"
            ]
          },
          "metadata": {},
          "execution_count": 50
        }
      ]
    },
    {
      "cell_type": "code",
      "metadata": {
        "colab": {
          "base_uri": "https://localhost:8080/"
        },
        "id": "2toa25fnU-Gx",
        "outputId": "dcd08867-e1cc-4768-a067-1c67413b046f"
      },
      "source": [
        "#we can use use tensorflow built in func too\n",
        "tf.multiply(tensor, 10)"
      ],
      "execution_count": 52,
      "outputs": [
        {
          "output_type": "execute_result",
          "data": {
            "text/plain": [
              "<tf.Tensor: shape=(2, 2), dtype=int32, numpy=\n",
              "array([[10, 20],\n",
              "       [30, 50]], dtype=int32)>"
            ]
          },
          "metadata": {},
          "execution_count": 52
        }
      ]
    },
    {
      "cell_type": "code",
      "metadata": {
        "colab": {
          "base_uri": "https://localhost:8080/"
        },
        "id": "SoJZQe7LVPA9",
        "outputId": "8c1acf0d-f00c-4d13-9a3b-a0ab6c755575"
      },
      "source": [
        "tensor"
      ],
      "execution_count": 53,
      "outputs": [
        {
          "output_type": "execute_result",
          "data": {
            "text/plain": [
              "<tf.Tensor: shape=(2, 2), dtype=int32, numpy=\n",
              "array([[1, 2],\n",
              "       [3, 5]], dtype=int32)>"
            ]
          },
          "metadata": {},
          "execution_count": 53
        }
      ]
    },
    {
      "cell_type": "markdown",
      "metadata": {
        "id": "epa5ZasaVZeS"
      },
      "source": [
        "**Matrix multiplication**"
      ]
    },
    {
      "cell_type": "markdown",
      "metadata": {
        "id": "qK7yxtHddw7T"
      },
      "source": [
        "We can perform matrix multiplication using:\n",
        "* `tf.matmul()`\n",
        "* `tf.tensordot()`\n",
        "* `@`"
      ]
    },
    {
      "cell_type": "code",
      "metadata": {
        "colab": {
          "base_uri": "https://localhost:8080/"
        },
        "id": "9npdabhXVl6g",
        "outputId": "f104311a-6c57-4565-bfa6-35d64c7517be"
      },
      "source": [
        "print(tensor)\n",
        "tf.matmul(tensor, tensor)"
      ],
      "execution_count": 55,
      "outputs": [
        {
          "output_type": "stream",
          "name": "stdout",
          "text": [
            "tf.Tensor(\n",
            "[[1 2]\n",
            " [3 5]], shape=(2, 2), dtype=int32)\n"
          ]
        },
        {
          "output_type": "execute_result",
          "data": {
            "text/plain": [
              "<tf.Tensor: shape=(2, 2), dtype=int32, numpy=\n",
              "array([[ 7, 12],\n",
              "       [18, 31]], dtype=int32)>"
            ]
          },
          "metadata": {},
          "execution_count": 55
        }
      ]
    },
    {
      "cell_type": "code",
      "metadata": {
        "colab": {
          "base_uri": "https://localhost:8080/"
        },
        "id": "laqOtXk6W1_G",
        "outputId": "63e17cc3-193c-4220-f61d-5b164b35e6cc"
      },
      "source": [
        "tensor * tensor"
      ],
      "execution_count": 56,
      "outputs": [
        {
          "output_type": "execute_result",
          "data": {
            "text/plain": [
              "<tf.Tensor: shape=(2, 2), dtype=int32, numpy=\n",
              "array([[ 1,  4],\n",
              "       [ 9, 25]], dtype=int32)>"
            ]
          },
          "metadata": {},
          "execution_count": 56
        }
      ]
    },
    {
      "cell_type": "code",
      "metadata": {
        "colab": {
          "base_uri": "https://localhost:8080/"
        },
        "id": "JIpGB3YpXB_y",
        "outputId": "2689029d-8186-4416-faca-2ff4815fd750"
      },
      "source": [
        "#matrix multiplication with python operator \"@\"\n",
        "tensor @ tensor"
      ],
      "execution_count": 57,
      "outputs": [
        {
          "output_type": "execute_result",
          "data": {
            "text/plain": [
              "<tf.Tensor: shape=(2, 2), dtype=int32, numpy=\n",
              "array([[ 7, 12],\n",
              "       [18, 31]], dtype=int32)>"
            ]
          },
          "metadata": {},
          "execution_count": 57
        }
      ]
    },
    {
      "cell_type": "code",
      "metadata": {
        "colab": {
          "base_uri": "https://localhost:8080/"
        },
        "id": "IB8lcudoXYhl",
        "outputId": "2e9dd4ef-527f-499e-bc7a-6842fc00a11c"
      },
      "source": [
        "#create a 3,2 tensor\n",
        "X = tf.constant([[1,2],\n",
        "                [3,4],\n",
        "                [5,6]])\n",
        "#create a 2,3 tensor\n",
        "Y = tf.constant([[1,2],\n",
        "                 [6,3],\n",
        "                [9,7]])\n",
        "#multiply them\n",
        "X @ tf.reshape(Y, shape=(2,3))"
      ],
      "execution_count": 64,
      "outputs": [
        {
          "output_type": "execute_result",
          "data": {
            "text/plain": [
              "<tf.Tensor: shape=(3, 3), dtype=int32, numpy=\n",
              "array([[ 7, 20, 20],\n",
              "       [15, 42, 46],\n",
              "       [23, 64, 72]], dtype=int32)>"
            ]
          },
          "metadata": {},
          "execution_count": 64
        }
      ]
    },
    {
      "cell_type": "code",
      "metadata": {
        "colab": {
          "base_uri": "https://localhost:8080/"
        },
        "id": "cXx1qdMIYXh4",
        "outputId": "9fa209a4-e475-4bfd-ad86-1acb26a8a385"
      },
      "source": [
        "tf.matmul(X, tf.reshape(Y, shape=(2,3)))"
      ],
      "execution_count": 65,
      "outputs": [
        {
          "output_type": "execute_result",
          "data": {
            "text/plain": [
              "<tf.Tensor: shape=(3, 3), dtype=int32, numpy=\n",
              "array([[ 7, 20, 20],\n",
              "       [15, 42, 46],\n",
              "       [23, 64, 72]], dtype=int32)>"
            ]
          },
          "metadata": {},
          "execution_count": 65
        }
      ]
    },
    {
      "cell_type": "code",
      "metadata": {
        "colab": {
          "base_uri": "https://localhost:8080/"
        },
        "id": "vrRH6tNPYxuh",
        "outputId": "de1c6fbf-2b59-453e-f2d6-72745417ad9c"
      },
      "source": [
        "tensor"
      ],
      "execution_count": 66,
      "outputs": [
        {
          "output_type": "execute_result",
          "data": {
            "text/plain": [
              "<tf.Tensor: shape=(2, 2), dtype=int32, numpy=\n",
              "array([[1, 2],\n",
              "       [3, 5]], dtype=int32)>"
            ]
          },
          "metadata": {},
          "execution_count": 66
        }
      ]
    },
    {
      "cell_type": "code",
      "metadata": {
        "colab": {
          "base_uri": "https://localhost:8080/"
        },
        "id": "t2fXVDa6Yz5Y",
        "outputId": "19662294-7202-4326-e9e7-bb5b007c8801"
      },
      "source": [
        "#reshaping x instead of y\n",
        "tf.reshape(X, shape=(2,3)) @ Y"
      ],
      "execution_count": 67,
      "outputs": [
        {
          "output_type": "execute_result",
          "data": {
            "text/plain": [
              "<tf.Tensor: shape=(2, 2), dtype=int32, numpy=\n",
              "array([[40, 29],\n",
              "       [88, 65]], dtype=int32)>"
            ]
          },
          "metadata": {},
          "execution_count": 67
        }
      ]
    },
    {
      "cell_type": "code",
      "metadata": {
        "colab": {
          "base_uri": "https://localhost:8080/"
        },
        "id": "zFNKiLj4Z5tn",
        "outputId": "e613cc8e-260e-4383-a9fa-72feb5e12ac3"
      },
      "source": [
        "tf.matmul(tf.reshape(X, shape=(2,3)), Y)"
      ],
      "execution_count": 68,
      "outputs": [
        {
          "output_type": "execute_result",
          "data": {
            "text/plain": [
              "<tf.Tensor: shape=(2, 2), dtype=int32, numpy=\n",
              "array([[40, 29],\n",
              "       [88, 65]], dtype=int32)>"
            ]
          },
          "metadata": {},
          "execution_count": 68
        }
      ]
    },
    {
      "cell_type": "code",
      "metadata": {
        "colab": {
          "base_uri": "https://localhost:8080/"
        },
        "id": "Iy1z0OGtaPIs",
        "outputId": "95333396-f741-4e60-f67d-8db3159feefc"
      },
      "source": [
        "X"
      ],
      "execution_count": 70,
      "outputs": [
        {
          "output_type": "execute_result",
          "data": {
            "text/plain": [
              "<tf.Tensor: shape=(3, 2), dtype=int32, numpy=\n",
              "array([[1, 2],\n",
              "       [3, 4],\n",
              "       [5, 6]], dtype=int32)>"
            ]
          },
          "metadata": {},
          "execution_count": 70
        }
      ]
    },
    {
      "cell_type": "code",
      "metadata": {
        "colab": {
          "base_uri": "https://localhost:8080/"
        },
        "id": "KECKsKwHaEj2",
        "outputId": "8da05e2d-59bb-4846-d31c-d1efd05d3f0a"
      },
      "source": [
        "tf.transpose(X), tf.reshape(X, shape=(2,3))"
      ],
      "execution_count": 73,
      "outputs": [
        {
          "output_type": "execute_result",
          "data": {
            "text/plain": [
              "(<tf.Tensor: shape=(2, 3), dtype=int32, numpy=\n",
              " array([[1, 3, 5],\n",
              "        [2, 4, 6]], dtype=int32)>,\n",
              " <tf.Tensor: shape=(2, 3), dtype=int32, numpy=\n",
              " array([[1, 2, 3],\n",
              "        [4, 5, 6]], dtype=int32)>)"
            ]
          },
          "metadata": {},
          "execution_count": 73
        }
      ]
    },
    {
      "cell_type": "code",
      "metadata": {
        "colab": {
          "base_uri": "https://localhost:8080/"
        },
        "id": "Dx0lSwWNaKKm",
        "outputId": "2e1575ef-05a0-40ea-f7a3-0d2cd04b7fdf"
      },
      "source": [
        "#try matrix multiplication with transpose rather than reshaping\n",
        "tf.matmul(tf.transpose(X), Y)"
      ],
      "execution_count": 74,
      "outputs": [
        {
          "output_type": "execute_result",
          "data": {
            "text/plain": [
              "<tf.Tensor: shape=(2, 2), dtype=int32, numpy=\n",
              "array([[64, 46],\n",
              "       [80, 58]], dtype=int32)>"
            ]
          },
          "metadata": {},
          "execution_count": 74
        }
      ]
    },
    {
      "cell_type": "code",
      "metadata": {
        "colab": {
          "base_uri": "https://localhost:8080/"
        },
        "id": "NhLrx543a5ZM",
        "outputId": "5b94e4ff-16fa-4745-a1aa-a2831ee328ff"
      },
      "source": [
        "#perform dot product(matrix multiplication) using tf.tensordot\n",
        "X,Y"
      ],
      "execution_count": 75,
      "outputs": [
        {
          "output_type": "execute_result",
          "data": {
            "text/plain": [
              "(<tf.Tensor: shape=(3, 2), dtype=int32, numpy=\n",
              " array([[1, 2],\n",
              "        [3, 4],\n",
              "        [5, 6]], dtype=int32)>, <tf.Tensor: shape=(3, 2), dtype=int32, numpy=\n",
              " array([[1, 2],\n",
              "        [6, 3],\n",
              "        [9, 7]], dtype=int32)>)"
            ]
          },
          "metadata": {},
          "execution_count": 75
        }
      ]
    },
    {
      "cell_type": "code",
      "metadata": {
        "colab": {
          "base_uri": "https://localhost:8080/"
        },
        "id": "MIN8fr1VbnGA",
        "outputId": "7d5c89b3-435e-47c8-aad5-2ad783d91ccc"
      },
      "source": [
        "tf.tensordot(tf.transpose(X), Y, axes=1)"
      ],
      "execution_count": 76,
      "outputs": [
        {
          "output_type": "execute_result",
          "data": {
            "text/plain": [
              "<tf.Tensor: shape=(2, 2), dtype=int32, numpy=\n",
              "array([[64, 46],\n",
              "       [80, 58]], dtype=int32)>"
            ]
          },
          "metadata": {},
          "execution_count": 76
        }
      ]
    },
    {
      "cell_type": "code",
      "metadata": {
        "colab": {
          "base_uri": "https://localhost:8080/"
        },
        "id": "FLhVzzXVb4zt",
        "outputId": "7b3ad78e-c89e-4ba0-a7bb-791cf11e9b10"
      },
      "source": [
        "tf.matmul(X, tf.transpose(Y))"
      ],
      "execution_count": 77,
      "outputs": [
        {
          "output_type": "execute_result",
          "data": {
            "text/plain": [
              "<tf.Tensor: shape=(3, 3), dtype=int32, numpy=\n",
              "array([[ 5, 12, 23],\n",
              "       [11, 30, 55],\n",
              "       [17, 48, 87]], dtype=int32)>"
            ]
          },
          "metadata": {},
          "execution_count": 77
        }
      ]
    },
    {
      "cell_type": "code",
      "metadata": {
        "colab": {
          "base_uri": "https://localhost:8080/"
        },
        "id": "o7mrMG6McEMG",
        "outputId": "388869b4-936b-41b3-f27e-73190ebd6396"
      },
      "source": [
        "tf.matmul(X, tf.reshape(Y, shape=(2,3)))"
      ],
      "execution_count": 78,
      "outputs": [
        {
          "output_type": "execute_result",
          "data": {
            "text/plain": [
              "<tf.Tensor: shape=(3, 3), dtype=int32, numpy=\n",
              "array([[ 7, 20, 20],\n",
              "       [15, 42, 46],\n",
              "       [23, 64, 72]], dtype=int32)>"
            ]
          },
          "metadata": {},
          "execution_count": 78
        }
      ]
    },
    {
      "cell_type": "markdown",
      "metadata": {
        "id": "KtHRux6jcPTG"
      },
      "source": [
        "### Changing the datatype of a tensor"
      ]
    },
    {
      "cell_type": "code",
      "metadata": {
        "colab": {
          "base_uri": "https://localhost:8080/"
        },
        "id": "LRYiz_hBeaLY",
        "outputId": "e90419fd-e660-495b-a9c0-ddd4e956bc99"
      },
      "source": [
        "# create a new tensor with default datatype(float)\n",
        "C = tf.constant([1.4,1.7])\n",
        "C.dtype"
      ],
      "execution_count": 79,
      "outputs": [
        {
          "output_type": "execute_result",
          "data": {
            "text/plain": [
              "tf.float32"
            ]
          },
          "metadata": {},
          "execution_count": 79
        }
      ]
    },
    {
      "cell_type": "code",
      "metadata": {
        "colab": {
          "base_uri": "https://localhost:8080/"
        },
        "id": "LpMGp6kPepi5",
        "outputId": "4a374619-bacb-428c-c19c-9d835b977c12"
      },
      "source": [
        "D = tf.constant([3,4])\n",
        "D.dtype"
      ],
      "execution_count": 80,
      "outputs": [
        {
          "output_type": "execute_result",
          "data": {
            "text/plain": [
              "tf.int32"
            ]
          },
          "metadata": {},
          "execution_count": 80
        }
      ]
    },
    {
      "cell_type": "code",
      "metadata": {
        "colab": {
          "base_uri": "https://localhost:8080/"
        },
        "id": "NwGHYU1vfHxV",
        "outputId": "452ee8f7-0fe1-41da-b5b9-39a83acb2456"
      },
      "source": [
        "#change float32 to float16\n",
        "E = tf.cast(C, dtype=tf.float16)\n",
        "C, E.dtype"
      ],
      "execution_count": 82,
      "outputs": [
        {
          "output_type": "execute_result",
          "data": {
            "text/plain": [
              "(<tf.Tensor: shape=(2,), dtype=float32, numpy=array([1.4, 1.7], dtype=float32)>,\n",
              " tf.float16)"
            ]
          },
          "metadata": {},
          "execution_count": 82
        }
      ]
    },
    {
      "cell_type": "code",
      "metadata": {
        "colab": {
          "base_uri": "https://localhost:8080/"
        },
        "id": "Rm8UYL6rfeff",
        "outputId": "c8c0896a-41ac-424f-eaab-2c2a5ae97ad0"
      },
      "source": [
        "#change from int32 to float32\n",
        "F = tf.cast(D, dtype=tf.float32)\n",
        "F, F.dtype"
      ],
      "execution_count": 84,
      "outputs": [
        {
          "output_type": "execute_result",
          "data": {
            "text/plain": [
              "(<tf.Tensor: shape=(2,), dtype=float32, numpy=array([3., 4.], dtype=float32)>,\n",
              " tf.float32)"
            ]
          },
          "metadata": {},
          "execution_count": 84
        }
      ]
    },
    {
      "cell_type": "markdown",
      "metadata": {
        "id": "Zugx-JqZf1Jo"
      },
      "source": [
        "###Aggregating tensors"
      ]
    },
    {
      "cell_type": "code",
      "metadata": {
        "colab": {
          "base_uri": "https://localhost:8080/"
        },
        "id": "vRHNzYuqf_1Q",
        "outputId": "bb9f80ea-61d0-4a07-d36d-1e6acafb6994"
      },
      "source": [
        "#Getting the absolute values\n",
        "A = tf.constant([-7,-10])\n",
        "A"
      ],
      "execution_count": 85,
      "outputs": [
        {
          "output_type": "execute_result",
          "data": {
            "text/plain": [
              "<tf.Tensor: shape=(2,), dtype=int32, numpy=array([ -7, -10], dtype=int32)>"
            ]
          },
          "metadata": {},
          "execution_count": 85
        }
      ]
    },
    {
      "cell_type": "code",
      "metadata": {
        "colab": {
          "base_uri": "https://localhost:8080/"
        },
        "id": "zqosWIuLg6f0",
        "outputId": "779e7cb3-4992-413b-8426-2795fa177fb0"
      },
      "source": [
        "tf.abs(A)"
      ],
      "execution_count": 86,
      "outputs": [
        {
          "output_type": "execute_result",
          "data": {
            "text/plain": [
              "<tf.Tensor: shape=(2,), dtype=int32, numpy=array([ 7, 10], dtype=int32)>"
            ]
          },
          "metadata": {},
          "execution_count": 86
        }
      ]
    },
    {
      "cell_type": "code",
      "metadata": {
        "colab": {
          "base_uri": "https://localhost:8080/"
        },
        "id": "BLy-3hDfg9sp",
        "outputId": "4200623e-cd5a-45bb-e0d8-e8cae301a9ff"
      },
      "source": [
        "#create a random tensor\n",
        "tens = tf.constant(np.random.randint(0,100,size=50))\n",
        "tens"
      ],
      "execution_count": 87,
      "outputs": [
        {
          "output_type": "execute_result",
          "data": {
            "text/plain": [
              "<tf.Tensor: shape=(50,), dtype=int64, numpy=\n",
              "array([25, 68, 40, 26,  5, 65, 92, 81, 77, 63, 91, 47, 68, 24, 72, 44, 27,\n",
              "       67, 34,  3, 14, 54, 93, 13, 66, 54, 51, 99, 60, 48, 99, 44,  6, 50,\n",
              "       16, 79, 40, 85, 37, 90, 56, 32, 36, 73, 18,  9, 51,  0, 64, 99])>"
            ]
          },
          "metadata": {},
          "execution_count": 87
        }
      ]
    },
    {
      "cell_type": "code",
      "metadata": {
        "colab": {
          "base_uri": "https://localhost:8080/"
        },
        "id": "WsNM5AeUhmWL",
        "outputId": "5e159d9d-d9a1-45ac-e459-808c70b742d3"
      },
      "source": [
        "tf.size(tens), tens.shape, tens.ndim"
      ],
      "execution_count": 88,
      "outputs": [
        {
          "output_type": "execute_result",
          "data": {
            "text/plain": [
              "(<tf.Tensor: shape=(), dtype=int32, numpy=50>, TensorShape([50]), 1)"
            ]
          },
          "metadata": {},
          "execution_count": 88
        }
      ]
    },
    {
      "cell_type": "code",
      "metadata": {
        "colab": {
          "base_uri": "https://localhost:8080/"
        },
        "id": "DvUP6Mi3htST",
        "outputId": "92c32772-83ec-4278-e004-a5aecb2e3160"
      },
      "source": [
        "tf.reduce_min(tens) #min element in tensor"
      ],
      "execution_count": 89,
      "outputs": [
        {
          "output_type": "execute_result",
          "data": {
            "text/plain": [
              "<tf.Tensor: shape=(), dtype=int64, numpy=0>"
            ]
          },
          "metadata": {},
          "execution_count": 89
        }
      ]
    },
    {
      "cell_type": "code",
      "metadata": {
        "colab": {
          "base_uri": "https://localhost:8080/"
        },
        "id": "IpnWdy14hyVo",
        "outputId": "a55b8ca8-fa02-44a3-eea5-aa16455d1585"
      },
      "source": [
        "tf.reduce_max(tens) #max element in tensor"
      ],
      "execution_count": 90,
      "outputs": [
        {
          "output_type": "execute_result",
          "data": {
            "text/plain": [
              "<tf.Tensor: shape=(), dtype=int64, numpy=99>"
            ]
          },
          "metadata": {},
          "execution_count": 90
        }
      ]
    },
    {
      "cell_type": "code",
      "metadata": {
        "colab": {
          "base_uri": "https://localhost:8080/"
        },
        "id": "Wb_e9R-Sh26V",
        "outputId": "5c191c1f-fabd-44de-d85c-e8a21a986551"
      },
      "source": [
        "tf.reduce_mean(tens) #mean of the tensor"
      ],
      "execution_count": 91,
      "outputs": [
        {
          "output_type": "execute_result",
          "data": {
            "text/plain": [
              "<tf.Tensor: shape=(), dtype=int64, numpy=51>"
            ]
          },
          "metadata": {},
          "execution_count": 91
        }
      ]
    },
    {
      "cell_type": "code",
      "metadata": {
        "colab": {
          "base_uri": "https://localhost:8080/"
        },
        "id": "ikY-2lEEh6Lr",
        "outputId": "6674f9eb-5f71-418b-a808-5e884a17a81f"
      },
      "source": [
        "tf.reduce_sum(tens) #sum of the elements of tensor"
      ],
      "execution_count": 92,
      "outputs": [
        {
          "output_type": "execute_result",
          "data": {
            "text/plain": [
              "<tf.Tensor: shape=(), dtype=int64, numpy=2555>"
            ]
          },
          "metadata": {},
          "execution_count": 92
        }
      ]
    },
    {
      "cell_type": "code",
      "metadata": {
        "colab": {
          "base_uri": "https://localhost:8080/"
        },
        "id": "2tnfVTbYh9fl",
        "outputId": "2a1c5b37-57ea-4dc5-fe80-c092e1bf9caf"
      },
      "source": [
        "#find variance of tensor\n",
        "import tensorflow_probability as tfp\n",
        "tfp.stats.variance(tensor)"
      ],
      "execution_count": 93,
      "outputs": [
        {
          "output_type": "execute_result",
          "data": {
            "text/plain": [
              "<tf.Tensor: shape=(2,), dtype=int32, numpy=array([1, 2], dtype=int32)>"
            ]
          },
          "metadata": {},
          "execution_count": 93
        }
      ]
    },
    {
      "cell_type": "code",
      "metadata": {
        "colab": {
          "base_uri": "https://localhost:8080/"
        },
        "id": "rnedovVViyUW",
        "outputId": "295e3da0-da92-49aa-d4a7-a61f19b6d28c"
      },
      "source": [
        "tf.math.reduce_std(tf.cast(tens, dtype=tf.float32))"
      ],
      "execution_count": 97,
      "outputs": [
        {
          "output_type": "execute_result",
          "data": {
            "text/plain": [
              "<tf.Tensor: shape=(), dtype=float32, numpy=28.139118>"
            ]
          },
          "metadata": {},
          "execution_count": 97
        }
      ]
    },
    {
      "cell_type": "code",
      "metadata": {
        "id": "AfDixXNEjW2B"
      },
      "source": [
        ""
      ],
      "execution_count": null,
      "outputs": []
    }
  ]
}